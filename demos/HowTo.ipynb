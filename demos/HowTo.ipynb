{
 "cells": [
  {
   "cell_type": "markdown",
   "metadata": {},
   "source": [
    "# Getting started with `JPSreport`\n"
   ]
  },
  {
   "cell_type": "markdown",
   "metadata": {},
   "source": [
    "`JPSreport` needs three different files as input: \n",
    "- A trajectory file (txt or xml) (see [documentation](http://www.jupedsim.org/jpsreport/2016-11-03-trajectory))\n",
    "- A geometry file (see [documentation](http://www.jupedsim.org/jpsreport/2016-11-02-geometry)) \n",
    "- and a project file, called inifile (see [documentation](http://www.jupedsim.org/jpsreport/2016-11-01-inifile))\n",
    "\n",
    "For example in **demos/bottleneck** we can find the following files:"
   ]
  },
  {
   "cell_type": "markdown",
   "metadata": {},
   "source": [
    "Calling `JPSreport` without an inifile yields:"
   ]
  },
  {
   "cell_type": "code",
   "execution_count": 33,
   "metadata": {},
   "outputs": [
    {
     "name": "stdout",
     "output_type": "stream",
     "text": [
      "INFO: \tTrying to load the default configuration from the file <ini.xml>\n",
      "INFO: \tParsing the ini file <ini.xml>\n",
      "Usage: \n",
      "\n",
      "\t../bin/jpsreport input.xml\n",
      "\n"
     ]
    },
    {
     "name": "stderr",
     "output_type": "stream",
     "text": [
      "ERROR: \tFailed to open file\n",
      "ERROR: \tCould not parse the ini file\n"
     ]
    }
   ],
   "source": [
    "%%bash\n",
    "../bin/jpsreport"
   ]
  },
  {
   "cell_type": "markdown",
   "metadata": {},
   "source": [
    "`JPSreport` rightly complains about a missing inifile. Now, let's have a look in the directory `/demos/bottleneck`: "
   ]
  },
  {
   "cell_type": "code",
   "execution_count": 19,
   "metadata": {},
   "outputs": [
    {
     "name": "stdout",
     "output_type": "stream",
     "text": [
      "geo_AO_300.xml   ini_AO_300.xml   traj_AO_300.txt\r\n"
     ]
    }
   ],
   "source": [
    " ls ./bottleneck"
   ]
  },
  {
   "cell_type": "markdown",
   "metadata": {},
   "source": [
    "Here we can find the three necessary files to get us started. \n",
    "Let's visualize the geometry with [JPSvis](https://gitlab.version.fz-juelich.de/jupedsim/jpsvis)\n",
    "\n",
    "![geometry](./bottleneck/geometry.png)\n"
   ]
  },
  {
   "cell_type": "markdown",
   "metadata": {},
   "source": [
    "## Preparing the inifile\n",
    "\n",
    "here do whatever you want"
   ]
  },
  {
   "cell_type": "markdown",
   "metadata": {},
   "source": [
    "## Call JPSreport\n",
    "\n",
    "To run the analysis run from a terminal the following:\n"
   ]
  },
  {
   "cell_type": "code",
   "execution_count": 1,
   "metadata": {},
   "outputs": [
    {
     "name": "stdout",
     "output_type": "stream",
     "text": [
      "INFO: \tParsing the ini file <./bottleneck/ini_AO_300.xml>\n",
      "INFO: \tGeometry File is: <./bottleneck/geo_AO_300.xml>\n",
      "INFO: \tFormat of the trajectory file is: <.txt>\n",
      "INFO: \tInput trajectory file is\t<traj_AO_300.txt>\n",
      "./\n",
      "INFO: \tInput directory for loading trajectory is:\t<./bottleneck/./>\n",
      "INFO: \tInput directory for loading scripts is:\t<./bottleneck/../../scripts/>\n",
      "INFO: \tMeasure area id  <1> with type <BoundingBox>\n",
      "\t\tMeasure area points  < 2.400, 0.530>\n",
      "\t\tMeasure area points  < 2.400, -0.530>\n",
      "\t\tMeasure area points  < -0.600, -0.530>\n",
      "\t\tMeasure area points  < -0.600, 0.530>\n",
      "\t\tLength in movement direction 1.000\n",
      "INFO: \tMeasure area id  <2> with type <Line>\n",
      "\t\tMeasurement line starts from  <-2.250, 0.000> to <4.000, 0.000>\n",
      "INFO: \tMeasure area id  <4> with type <Line>\n",
      "\t\tMeasurement line starts from  <-2.250, 0.500> to <4.000, 0.500>\n",
      "INFO: \tBoth x and y-component of coordinates will be used to calculate instantaneous velocity over <10 frames>\n",
      "INFO: \tMethod A is selected\n",
      "INFO: \tMeasurement area id <2> will be used for analysis\n",
      "\tFrame interval used for calculating flow is <100> frame\n",
      "\tThe Time series N-t measured will be plotted!! \n",
      "INFO: \tMeasurement area id <4> will be used for analysis\n",
      "\tFrame interval used for calculating flow is <150> frame\n",
      "\tThe Time series N-t measured will be plotted!! \n",
      "INFO: \tFinish parsing inifile\n",
      "\n",
      "INFO: \tStart Analysis for the file: traj_AO_300.txt\n",
      "**********************************************************************\n",
      "INFO: \tLoading building file successful!!!\n",
      "\n",
      "INFO: \tInit Geometry\n",
      "INFO: \tInit Geometry successful!!!\n",
      "\n",
      "INFO:\tthe name of the trajectory is: <traj_AO_300.txt>\n",
      "INFO:\tfull name of the trajectory is: <./bottleneck/.//traj_AO_300.txt>\n",
      "INFO:\tFrame rate fps: <16.00>\n",
      "INFO: pos_id: 0\n",
      "INFO: pos_fr: 1\n",
      "INFO: pos_x: 2\n",
      "INFO: pos_y: 3\n",
      "INFO: pos_z: 4\n",
      "INFO: pos_vd: 5\n",
      "lineNr 100000\n",
      "INFO:\t Finished reading the data\n",
      "INFO: Got 128783 lines\n",
      "INFO: minID: 1\n",
      "INFO: minFrame: 0\n",
      "INFO: numFrames: 959\n",
      "INFO: Total number of Agents: 348\n",
      "INFO: Enter CreateGlobalVariables with numPeds=348 and numFrames=959\n",
      "INFO: allocate memory for xCor\n",
      "INFO: allocate memory for yCor\n",
      "INFO: allocate memory for zCor\n",
      "INFO: allocate memory for vComp\n",
      " Finished memory allocation\n",
      "INFO: Leave CreateGlobalVariables()\n",
      "INFO: Create Global Variables done\n",
      "convert x and y\n",
      "Save the data for each frame\n",
      "------------------------Analyzing with Method A-----------------------------\n",
      "frame ID = 0\n",
      "------------------------Analyzing with Method A-----------------------------\n",
      "frame ID = 0\n",
      "frame ID = 100\n",
      "frame ID = 100\n",
      "frame ID = 200\n",
      "frame ID = 200\n",
      "frame ID = 300\n",
      "frame ID = 300\n",
      "frame ID = 400\n",
      "frame ID = 400\n",
      "frame ID = 500\n",
      "frame ID = 500\n",
      "frame ID = 600\n",
      "frame ID = 600\n",
      "frame ID = 700\n",
      "frame ID = 700\n",
      "frame ID = 800\n",
      "frame ID = 900\n",
      "frame ID = 800\n",
      "frame ID = 900\n",
      "INFO:\tPlotting N-t diagram! Status: 0\n",
      "INFO:\tSuccess with Method A using measurement area id 2!\n",
      "\n",
      "INFO:\tPlotting N-t diagram! Status: 0\n",
      "INFO:\tSuccess with Method A using measurement area id 4!\n",
      "\n",
      "**********************************************************************\n",
      "INFO: \tEnd Analysis for the file: traj_AO_300.txt\n",
      "\n"
     ]
    }
   ],
   "source": [
    "%%bash\n",
    "../bin/jpsreport ./bottleneck/ini_AO_300.xml"
   ]
  },
  {
   "cell_type": "markdown",
   "metadata": {},
   "source": [
    "The output of `JPSreport` gives some logging information on its running process.  It may inform on any errors during the compilation or misconception of the input files (inifile, geometry or trajectory file).\n",
    "\n",
    "Uppon a succesful run, the directory **output** is created with the following content (depends on the configuration in inifile):"
   ]
  },
  {
   "cell_type": "code",
   "execution_count": 2,
   "metadata": {},
   "outputs": [
    {
     "name": "stdout",
     "output_type": "stream",
     "text": [
      "bottleneck/Output\n",
      "└── Fundamental_Diagram\n",
      "    └── FlowVelocity\n",
      "        ├── FDFlowVelocity_traj_AO_300.txt_id_2.dat\n",
      "        ├── FDFlowVelocity_traj_AO_300.txt_id_4.dat\n",
      "        ├── Flow_NT_traj_AO_300.txt_id_2.dat\n",
      "        ├── Flow_NT_traj_AO_300.txt_id_2.png\n",
      "        ├── Flow_NT_traj_AO_300.txt_id_4.dat\n",
      "        └── Flow_NT_traj_AO_300.txt_id_4.png\n",
      "\n",
      "2 directories, 6 files\n"
     ]
    }
   ],
   "source": [
    "%%bash\n",
    "tree bottleneck/Output"
   ]
  },
  {
   "cell_type": "code",
   "execution_count": 3,
   "metadata": {},
   "outputs": [
    {
     "name": "stdout",
     "output_type": "stream",
     "text": [
      "#Flow rate(1/s)\t\t Mean velocity(m/s)\n",
      "8.404\t1.148\n",
      "7.673\t0.869\n",
      "7.347\t0.774\n",
      "7.216\t0.723\n",
      "7.129\t0.736\n",
      "6.880\t0.726\n",
      "6.275\t0.740\n",
      "3.918\t0.748\n",
      "2.500\t0.806\n"
     ]
    }
   ],
   "source": [
    "%%bash\n",
    "tail bottleneck/Output/Fundamental_Diagram/FlowVelocity/FDFlowVelocity_traj_AO_300.txt_id_2.dat"
   ]
  },
  {
   "cell_type": "markdown",
   "metadata": {},
   "source": [
    "![](bottleneck/Output/Fundamental_Diagram/FlowVelocity/Flow_NT_traj_AO_300.txt_id_2.png)"
   ]
  },
  {
   "cell_type": "markdown",
   "metadata": {
    "collapsed": true
   },
   "source": [
    "![](Output/Fundamental_Diagram/FlowVelocity/Flow_NT_traj_AO_300.txt_id_2.png)"
   ]
  },
  {
   "cell_type": "markdown",
   "metadata": {},
   "source": [
    "Result: \n",
    "![](bottleneck/Output/Fundamental_Diagram/FlowVelocity/Flow_NT_traj_AO_300.txt_id_2.png)"
   ]
  },
  {
   "cell_type": "code",
   "execution_count": null,
   "metadata": {
    "collapsed": true
   },
   "outputs": [],
   "source": []
  }
 ],
 "metadata": {
  "kernelspec": {
   "display_name": "Python 3",
   "language": "python",
   "name": "python3"
  },
  "language_info": {
   "codemirror_mode": {
    "name": "ipython",
    "version": 3
   },
   "file_extension": ".py",
   "mimetype": "text/x-python",
   "name": "python",
   "nbconvert_exporter": "python",
   "pygments_lexer": "ipython3",
   "version": "3.6.3"
  }
 },
 "nbformat": 4,
 "nbformat_minor": 2
}
